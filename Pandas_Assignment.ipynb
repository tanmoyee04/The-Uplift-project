{
  "nbformat": 4,
  "nbformat_minor": 0,
  "metadata": {
    "colab": {
      "name": "Pandas_Assignment.ipynb",
      "provenance": [],
      "authorship_tag": "ABX9TyNzQUtdN2K89avUt8tifD3L",
      "include_colab_link": true
    },
    "kernelspec": {
      "name": "python3",
      "display_name": "Python 3"
    },
    "language_info": {
      "name": "python"
    }
  },
  "cells": [
    {
      "cell_type": "markdown",
      "metadata": {
        "id": "view-in-github",
        "colab_type": "text"
      },
      "source": [
        "<a href=\"https://colab.research.google.com/github/tanmoyee04/The-Uplift-project/blob/main/Pandas_Assignment.ipynb\" target=\"_parent\"><img src=\"https://colab.research.google.com/assets/colab-badge.svg\" alt=\"Open In Colab\"/></a>"
      ]
    },
    {
      "cell_type": "code",
      "metadata": {
        "id": "lOKlH2SM3c_m"
      },
      "source": [
        "import pandas as pd\n",
        "import numpy as np"
      ],
      "execution_count": 1,
      "outputs": []
    },
    {
      "cell_type": "code",
      "metadata": {
        "id": "lw5bW9Ic3k-k"
      },
      "source": [
        "data = {'Temperature': [20,18,19,20], 'Rainfall': [1.1,0.6,0.9,1.0], 'Mosquitos': [150,217,153,158]}\n",
        "Date = ['01/01/2020','02/01/2020','03/01/2020','04/01/2020']"
      ],
      "execution_count": 3,
      "outputs": []
    },
    {
      "cell_type": "code",
      "metadata": {
        "colab": {
          "base_uri": "https://localhost:8080/"
        },
        "id": "B8o1dwG-4-MY",
        "outputId": "d01c7869-d78a-4132-f970-4112f589db81"
      },
      "source": [
        "df = pd.DataFrame(data, index=Date)\n",
        "print(df)"
      ],
      "execution_count": 4,
      "outputs": [
        {
          "output_type": "stream",
          "text": [
            "            Temperature  Rainfall  Mosquitos\n",
            "01/01/2020           20       1.1        150\n",
            "02/01/2020           18       0.6        217\n",
            "03/01/2020           19       0.9        153\n",
            "04/01/2020           20       1.0        158\n"
          ],
          "name": "stdout"
        }
      ]
    },
    {
      "cell_type": "code",
      "metadata": {
        "colab": {
          "base_uri": "https://localhost:8080/"
        },
        "id": "XDi_J6715Q_w",
        "outputId": "947cad99-d8d4-413b-ca14-5788b4b4af5b"
      },
      "source": [
        "print(df.iloc[[1,2],[0,1]])"
      ],
      "execution_count": 6,
      "outputs": [
        {
          "output_type": "stream",
          "text": [
            "            Temperature  Rainfall\n",
            "02/01/2020           18       0.6\n",
            "03/01/2020           19       0.9\n"
          ],
          "name": "stdout"
        }
      ]
    },
    {
      "cell_type": "code",
      "metadata": {
        "colab": {
          "base_uri": "https://localhost:8080/"
        },
        "id": "OAe93eda8i9C",
        "outputId": "abac57e6-e882-45b3-cc48-e742fea6b7db"
      },
      "source": [
        "print(df['Temperature'].max())"
      ],
      "execution_count": 7,
      "outputs": [
        {
          "output_type": "stream",
          "text": [
            "20\n"
          ],
          "name": "stdout"
        }
      ]
    },
    {
      "cell_type": "code",
      "metadata": {
        "colab": {
          "base_uri": "https://localhost:8080/"
        },
        "id": "EA4Xb3Kh9ZlC",
        "outputId": "6b94851d-76b7-4285-baf1-b5ae4e350b6a"
      },
      "source": [
        "print(df['Rainfall'].min())"
      ],
      "execution_count": 8,
      "outputs": [
        {
          "output_type": "stream",
          "text": [
            "0.6\n"
          ],
          "name": "stdout"
        }
      ]
    },
    {
      "cell_type": "code",
      "metadata": {
        "colab": {
          "base_uri": "https://localhost:8080/"
        },
        "id": "LWO-SD4e-Jsy",
        "outputId": "0cd459b9-7952-41ed-9aee-206575d9f321"
      },
      "source": [
        "print(df['Mosquitos'].mean())"
      ],
      "execution_count": 9,
      "outputs": [
        {
          "output_type": "stream",
          "text": [
            "169.5\n"
          ],
          "name": "stdout"
        }
      ]
    },
    {
      "cell_type": "code",
      "metadata": {
        "id": "OKEtSRPS-v4N"
      },
      "source": [
        ""
      ],
      "execution_count": null,
      "outputs": []
    }
  ]
}