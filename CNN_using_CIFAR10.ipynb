{
  "nbformat": 4,
  "nbformat_minor": 0,
  "metadata": {
    "colab": {
      "name": "CNN_using_CIFAR10.ipynb",
      "provenance": [],
      "authorship_tag": "ABX9TyME+TVLCPSrXdNHxpo0sCjo",
      "include_colab_link": true
    },
    "kernelspec": {
      "name": "python3",
      "display_name": "Python 3"
    },
    "language_info": {
      "name": "python"
    },
    "accelerator": "GPU"
  },
  "cells": [
    {
      "cell_type": "markdown",
      "metadata": {
        "id": "view-in-github",
        "colab_type": "text"
      },
      "source": [
        "<a href=\"https://colab.research.google.com/github/tanmoyee04/The-Uplift-project/blob/main/CNN_using_CIFAR10.ipynb\" target=\"_parent\"><img src=\"https://colab.research.google.com/assets/colab-badge.svg\" alt=\"Open In Colab\"/></a>"
      ]
    },
    {
      "cell_type": "code",
      "metadata": {
        "id": "gowjPd8Pat7x"
      },
      "source": [
        "import tensorflow as tf\n",
        "from tensorflow import keras\n",
        "import numpy as np\n",
        "import pandas as pd\n",
        "import matplotlib.pyplot as plt"
      ],
      "execution_count": 1,
      "outputs": []
    },
    {
      "cell_type": "code",
      "metadata": {
        "colab": {
          "base_uri": "https://localhost:8080/"
        },
        "id": "bviAul7obrgV",
        "outputId": "6a56c4dc-f8c9-4de9-b872-ecde5662ead9"
      },
      "source": [
        "# CIFAR-10 Dataset\n",
        "\n",
        "(x_train,y_train),(x_test,y_test) = keras.datasets.cifar10.load_data()"
      ],
      "execution_count": 3,
      "outputs": [
        {
          "output_type": "stream",
          "text": [
            "Downloading data from https://www.cs.toronto.edu/~kriz/cifar-10-python.tar.gz\n",
            "170500096/170498071 [==============================] - 3s 0us/step\n"
          ],
          "name": "stdout"
        }
      ]
    },
    {
      "cell_type": "code",
      "metadata": {
        "colab": {
          "base_uri": "https://localhost:8080/"
        },
        "id": "x2eKI65XbyNU",
        "outputId": "c419b1ac-2186-43db-f87f-1389827bb30e"
      },
      "source": [
        "print(x_train.shape)\n",
        "print(y_train.shape)\n",
        "print(x_test.shape)\n",
        "print(y_test.shape)"
      ],
      "execution_count": 4,
      "outputs": [
        {
          "output_type": "stream",
          "text": [
            "(50000, 32, 32, 3)\n",
            "(50000, 1)\n",
            "(10000, 32, 32, 3)\n",
            "(10000, 1)\n"
          ],
          "name": "stdout"
        }
      ]
    },
    {
      "cell_type": "code",
      "metadata": {
        "colab": {
          "base_uri": "https://localhost:8080/",
          "height": 283
        },
        "id": "Nk8AExkscU0S",
        "outputId": "ad06e8d0-8679-4000-ad7d-cfbf3bebdafa"
      },
      "source": [
        "plt.imshow(x_train[200])"
      ],
      "execution_count": 5,
      "outputs": [
        {
          "output_type": "execute_result",
          "data": {
            "text/plain": [
              "<matplotlib.image.AxesImage at 0x7f65c302bb10>"
            ]
          },
          "metadata": {
            "tags": []
          },
          "execution_count": 5
        },
        {
          "output_type": "display_data",
          "data": {
            "image/png": "[encoded data removed]",
            "text/plain": [
              "<Figure size 432x288 with 1 Axes>"
            ]
          },
          "metadata": {
            "tags": [],
            "needs_background": "light"
          }
        }
      ]
    },
    {
      "cell_type": "code",
      "metadata": {
        "colab": {
          "base_uri": "https://localhost:8080/"
        },
        "id": "YdHs8xHFdUer",
        "outputId": "695d3d09-1f12-4c3f-f7e6-93de12991ca8"
      },
      "source": [
        "x_train[200]"
      ],
      "execution_count": 6,
      "outputs": [
        {
          "output_type": "execute_result",
          "data": {
            "text/plain": [
              "array([[[105, 155, 204],\n",
              "        [ 99, 150, 206],\n",
              "        [111, 149, 195],\n",
              "        ...,\n",
              "        [113, 160,  87],\n",
              "        [150, 197, 134],\n",
              "        [164, 216, 142]],\n",
              "\n",
              "       [[113, 169, 210],\n",
              "        [ 85, 132, 183],\n",
              "        [ 70, 101, 131],\n",
              "        ...,\n",
              "        [ 72, 136,  58],\n",
              "        [107, 176, 102],\n",
              "        [140, 207, 136]],\n",
              "\n",
              "       [[106, 165, 209],\n",
              "        [ 90, 132, 189],\n",
              "        [ 47,  71, 108],\n",
              "        ...,\n",
              "        [ 75, 129,  89],\n",
              "        [117, 185, 111],\n",
              "        [120, 193, 111]],\n",
              "\n",
              "       ...,\n",
              "\n",
              "       [[ 55,  74, 127],\n",
              "        [ 32,  13,  34],\n",
              "        [ 36,  30,  21],\n",
              "        ...,\n",
              "        [ 12, 103,  76],\n",
              "        [ 44,  92, 116],\n",
              "        [103, 146, 186]],\n",
              "\n",
              "       [[ 49, 103,  75],\n",
              "        [ 50,  57,  21],\n",
              "        [ 57,  76,  25],\n",
              "        ...,\n",
              "        [ 42, 141,  87],\n",
              "        [ 86, 150, 154],\n",
              "        [117, 172, 202]],\n",
              "\n",
              "       [[ 60, 146,  50],\n",
              "        [ 93, 137,  45],\n",
              "        [ 95, 156,  63],\n",
              "        ...,\n",
              "        [ 97, 180, 151],\n",
              "        [ 92, 165, 173],\n",
              "        [ 84, 160, 196]]], dtype=uint8)"
            ]
          },
          "metadata": {
            "tags": []
          },
          "execution_count": 6
        }
      ]
    },
    {
      "cell_type": "markdown",
      "metadata": {
        "id": "vunudSDYdos3"
      },
      "source": [
        "### Data Preprocessing"
      ]
    },
    {
      "cell_type": "code",
      "metadata": {
        "id": "WY4zvFxjdZej"
      },
      "source": [
        "# Normalisation \n",
        "\n",
        "x_train = x_train/255.0\n",
        "x_test = x_test/255.0"
      ],
      "execution_count": 7,
      "outputs": []
    },
    {
      "cell_type": "code",
      "metadata": {
        "colab": {
          "base_uri": "https://localhost:8080/"
        },
        "id": "jxnhiymBd-iJ",
        "outputId": "5a1cddf8-891c-4cef-bb1c-26af3b1c7f70"
      },
      "source": [
        "x_train[200]"
      ],
      "execution_count": 8,
      "outputs": [
        {
          "output_type": "execute_result",
          "data": {
            "text/plain": [
              "array([[[0.41176471, 0.60784314, 0.8       ],\n",
              "        [0.38823529, 0.58823529, 0.80784314],\n",
              "        [0.43529412, 0.58431373, 0.76470588],\n",
              "        ...,\n",
              "        [0.44313725, 0.62745098, 0.34117647],\n",
              "        [0.58823529, 0.77254902, 0.5254902 ],\n",
              "        [0.64313725, 0.84705882, 0.55686275]],\n",
              "\n",
              "       [[0.44313725, 0.6627451 , 0.82352941],\n",
              "        [0.33333333, 0.51764706, 0.71764706],\n",
              "        [0.2745098 , 0.39607843, 0.51372549],\n",
              "        ...,\n",
              "        [0.28235294, 0.53333333, 0.22745098],\n",
              "        [0.41960784, 0.69019608, 0.4       ],\n",
              "        [0.54901961, 0.81176471, 0.53333333]],\n",
              "\n",
              "       [[0.41568627, 0.64705882, 0.81960784],\n",
              "        [0.35294118, 0.51764706, 0.74117647],\n",
              "        [0.18431373, 0.27843137, 0.42352941],\n",
              "        ...,\n",
              "        [0.29411765, 0.50588235, 0.34901961],\n",
              "        [0.45882353, 0.7254902 , 0.43529412],\n",
              "        [0.47058824, 0.75686275, 0.43529412]],\n",
              "\n",
              "       ...,\n",
              "\n",
              "       [[0.21568627, 0.29019608, 0.49803922],\n",
              "        [0.1254902 , 0.05098039, 0.13333333],\n",
              "        [0.14117647, 0.11764706, 0.08235294],\n",
              "        ...,\n",
              "        [0.04705882, 0.40392157, 0.29803922],\n",
              "        [0.17254902, 0.36078431, 0.45490196],\n",
              "        [0.40392157, 0.57254902, 0.72941176]],\n",
              "\n",
              "       [[0.19215686, 0.40392157, 0.29411765],\n",
              "        [0.19607843, 0.22352941, 0.08235294],\n",
              "        [0.22352941, 0.29803922, 0.09803922],\n",
              "        ...,\n",
              "        [0.16470588, 0.55294118, 0.34117647],\n",
              "        [0.3372549 , 0.58823529, 0.60392157],\n",
              "        [0.45882353, 0.6745098 , 0.79215686]],\n",
              "\n",
              "       [[0.23529412, 0.57254902, 0.19607843],\n",
              "        [0.36470588, 0.5372549 , 0.17647059],\n",
              "        [0.37254902, 0.61176471, 0.24705882],\n",
              "        ...,\n",
              "        [0.38039216, 0.70588235, 0.59215686],\n",
              "        [0.36078431, 0.64705882, 0.67843137],\n",
              "        [0.32941176, 0.62745098, 0.76862745]]])"
            ]
          },
          "metadata": {
            "tags": []
          },
          "execution_count": 8
        }
      ]
    },
    {
      "cell_type": "code",
      "metadata": {
        "colab": {
          "base_uri": "https://localhost:8080/"
        },
        "id": "E92FM15DeAZu",
        "outputId": "2415d35e-110f-40dc-e40b-e7f7f4af6b72"
      },
      "source": [
        "y_train[200]"
      ],
      "execution_count": 9,
      "outputs": [
        {
          "output_type": "execute_result",
          "data": {
            "text/plain": [
              "array([6], dtype=uint8)"
            ]
          },
          "metadata": {
            "tags": []
          },
          "execution_count": 9
        }
      ]
    },
    {
      "cell_type": "code",
      "metadata": {
        "id": "mXa8PMQMeKQh"
      },
      "source": [
        "from tensorflow.keras.utils import to_categorical\n",
        "\n",
        "y_train = to_categorical(y_train,10)\n",
        "y_test = to_categorical(y_test,10)"
      ],
      "execution_count": 10,
      "outputs": []
    },
    {
      "cell_type": "code",
      "metadata": {
        "colab": {
          "base_uri": "https://localhost:8080/"
        },
        "id": "ZrKWBPXRe_3W",
        "outputId": "e25f7c95-15b1-495c-8872-3542b15e6502"
      },
      "source": [
        "y_train[200] #onehot encoding"
      ],
      "execution_count": 11,
      "outputs": [
        {
          "output_type": "execute_result",
          "data": {
            "text/plain": [
              "array([0., 0., 0., 0., 0., 0., 1., 0., 0., 0.], dtype=float32)"
            ]
          },
          "metadata": {
            "tags": []
          },
          "execution_count": 11
        }
      ]
    },
    {
      "cell_type": "markdown",
      "metadata": {
        "id": "d-E70CrafMZx"
      },
      "source": [
        "### Building the Model"
      ]
    },
    {
      "cell_type": "code",
      "metadata": {
        "colab": {
          "base_uri": "https://localhost:8080/"
        },
        "id": "Y_SCgDSnfCQY",
        "outputId": "5d304455-7331-4c43-a8b9-923a57971393"
      },
      "source": [
        "model = keras.Sequential([\n",
        "                          keras.layers.Conv2D(32, (3,3), activation='relu', input_shape=(32,32,3)),\n",
        "                          keras.layers.MaxPool2D((2,2)),\n",
        "                          keras.layers.Conv2D(32, (3,3), activation='relu'),\n",
        "                          keras.layers.MaxPool2D((2,2)),\n",
        "                          keras.layers.Flatten(),\n",
        "                          keras.layers.Dense(256, activation='relu'),\n",
        "                          keras.layers.Dense(10, activation='sigmoid')\n",
        "])\n",
        "\n",
        "model.compile(loss='categorical_crossentropy', optimizer='adam', metrics=['accuracy'])\n",
        "model.summary()"
      ],
      "execution_count": 12,
      "outputs": [
        {
          "output_type": "stream",
          "text": [
            "Model: \"sequential\"\n",
            "_________________________________________________________________\n",
            "Layer (type)                 Output Shape              Param #   \n",
            "=================================================================\n",
            "conv2d (Conv2D)              (None, 30, 30, 32)        896       \n",
            "_________________________________________________________________\n",
            "max_pooling2d (MaxPooling2D) (None, 15, 15, 32)        0         \n",
            "_________________________________________________________________\n",
            "conv2d_1 (Conv2D)            (None, 13, 13, 32)        9248      \n",
            "_________________________________________________________________\n",
            "max_pooling2d_1 (MaxPooling2 (None, 6, 6, 32)          0         \n",
            "_________________________________________________________________\n",
            "flatten (Flatten)            (None, 1152)              0         \n",
            "_________________________________________________________________\n",
            "dense (Dense)                (None, 256)               295168    \n",
            "_________________________________________________________________\n",
            "dense_1 (Dense)              (None, 10)                2570      \n",
            "=================================================================\n",
            "Total params: 307,882\n",
            "Trainable params: 307,882\n",
            "Non-trainable params: 0\n",
            "_________________________________________________________________\n"
          ],
          "name": "stdout"
        }
      ]
    },
    {
      "cell_type": "code",
      "metadata": {
        "id": "08l8FYTzjAGt"
      },
      "source": [
        "from tensorflow.keras.callbacks import EarlyStopping\n",
        "\n",
        "es = EarlyStopping(monitor='accuracy',mode='max', patience=3)"
      ],
      "execution_count": 15,
      "outputs": []
    },
    {
      "cell_type": "code",
      "metadata": {
        "colab": {
          "base_uri": "https://localhost:8080/"
        },
        "id": "G0Wii7VcjXwH",
        "outputId": "f833aa1d-4c6d-4cb5-8073-d1c630033efa"
      },
      "source": [
        "model.fit(x_train,y_train,epochs=15,callbacks=[es],verbose=2)"
      ],
      "execution_count": 16,
      "outputs": [
        {
          "output_type": "stream",
          "text": [
            "Epoch 1/15\n",
            "1563/1563 - 4s - loss: 0.5631 - accuracy: 0.8029\n",
            "Epoch 2/15\n",
            "1563/1563 - 4s - loss: 0.4876 - accuracy: 0.8288\n",
            "Epoch 3/15\n",
            "1563/1563 - 4s - loss: 0.4129 - accuracy: 0.8543\n",
            "Epoch 4/15\n",
            "1563/1563 - 4s - loss: 0.3486 - accuracy: 0.8774\n",
            "Epoch 5/15\n",
            "1563/1563 - 4s - loss: 0.2961 - accuracy: 0.8956\n",
            "Epoch 6/15\n",
            "1563/1563 - 4s - loss: 0.2472 - accuracy: 0.9132\n",
            "Epoch 7/15\n",
            "1563/1563 - 4s - loss: 0.2093 - accuracy: 0.9269\n",
            "Epoch 8/15\n",
            "1563/1563 - 4s - loss: 0.1738 - accuracy: 0.9387\n",
            "Epoch 9/15\n",
            "1563/1563 - 4s - loss: 0.1615 - accuracy: 0.9437\n",
            "Epoch 10/15\n",
            "1563/1563 - 4s - loss: 0.1327 - accuracy: 0.9532\n",
            "Epoch 11/15\n",
            "1563/1563 - 4s - loss: 0.1291 - accuracy: 0.9544\n",
            "Epoch 12/15\n",
            "1563/1563 - 4s - loss: 0.1090 - accuracy: 0.9623\n",
            "Epoch 13/15\n",
            "1563/1563 - 4s - loss: 0.1080 - accuracy: 0.9626\n",
            "Epoch 14/15\n",
            "1563/1563 - 4s - loss: 0.1008 - accuracy: 0.9649\n",
            "Epoch 15/15\n",
            "1563/1563 - 4s - loss: 0.0943 - accuracy: 0.9673\n"
          ],
          "name": "stdout"
        },
        {
          "output_type": "execute_result",
          "data": {
            "text/plain": [
              "<tensorflow.python.keras.callbacks.History at 0x7f6562782850>"
            ]
          },
          "metadata": {
            "tags": []
          },
          "execution_count": 16
        }
      ]
    },
    {
      "cell_type": "code",
      "metadata": {
        "colab": {
          "base_uri": "https://localhost:8080/",
          "height": 511
        },
        "id": "gN0fTNkijryG",
        "outputId": "a4812aca-f480-417d-e59a-0591550134b3"
      },
      "source": [
        "acc_loss = pd.DataFrame(model.history.history)\n",
        "acc_loss"
      ],
      "execution_count": 17,
      "outputs": [
        {
          "output_type": "execute_result",
          "data": {
            "text/html": [
              "<div>\n",
              "<style scoped>\n",
              "    .dataframe tbody tr th:only-of-type {\n",
              "        vertical-align: middle;\n",
              "    }\n",
              "\n",
              "    .dataframe tbody tr th {\n",
              "        vertical-align: top;\n",
              "    }\n",
              "\n",
              "    .dataframe thead th {\n",
              "        text-align: right;\n",
              "    }\n",
              "</style>\n",
              "<table border=\"1\" class=\"dataframe\">\n",
              "  <thead>\n",
              "    <tr style=\"text-align: right;\">\n",
              "      <th></th>\n",
              "      <th>loss</th>\n",
              "      <th>accuracy</th>\n",
              "    </tr>\n",
              "  </thead>\n",
              "  <tbody>\n",
              "    <tr>\n",
              "      <th>0</th>\n",
              "      <td>0.563060</td>\n",
              "      <td>0.80294</td>\n",
              "    </tr>\n",
              "    <tr>\n",
              "      <th>1</th>\n",
              "      <td>0.487606</td>\n",
              "      <td>0.82878</td>\n",
              "    </tr>\n",
              "    <tr>\n",
              "      <th>2</th>\n",
              "      <td>0.412909</td>\n",
              "      <td>0.85430</td>\n",
              "    </tr>\n",
              "    <tr>\n",
              "      <th>3</th>\n",
              "      <td>0.348644</td>\n",
              "      <td>0.87738</td>\n",
              "    </tr>\n",
              "    <tr>\n",
              "      <th>4</th>\n",
              "      <td>0.296138</td>\n",
              "      <td>0.89564</td>\n",
              "    </tr>\n",
              "    <tr>\n",
              "      <th>5</th>\n",
              "      <td>0.247198</td>\n",
              "      <td>0.91324</td>\n",
              "    </tr>\n",
              "    <tr>\n",
              "      <th>6</th>\n",
              "      <td>0.209269</td>\n",
              "      <td>0.92694</td>\n",
              "    </tr>\n",
              "    <tr>\n",
              "      <th>7</th>\n",
              "      <td>0.173775</td>\n",
              "      <td>0.93872</td>\n",
              "    </tr>\n",
              "    <tr>\n",
              "      <th>8</th>\n",
              "      <td>0.161487</td>\n",
              "      <td>0.94374</td>\n",
              "    </tr>\n",
              "    <tr>\n",
              "      <th>9</th>\n",
              "      <td>0.132660</td>\n",
              "      <td>0.95324</td>\n",
              "    </tr>\n",
              "    <tr>\n",
              "      <th>10</th>\n",
              "      <td>0.129140</td>\n",
              "      <td>0.95442</td>\n",
              "    </tr>\n",
              "    <tr>\n",
              "      <th>11</th>\n",
              "      <td>0.108996</td>\n",
              "      <td>0.96228</td>\n",
              "    </tr>\n",
              "    <tr>\n",
              "      <th>12</th>\n",
              "      <td>0.107992</td>\n",
              "      <td>0.96260</td>\n",
              "    </tr>\n",
              "    <tr>\n",
              "      <th>13</th>\n",
              "      <td>0.100814</td>\n",
              "      <td>0.96492</td>\n",
              "    </tr>\n",
              "    <tr>\n",
              "      <th>14</th>\n",
              "      <td>0.094283</td>\n",
              "      <td>0.96728</td>\n",
              "    </tr>\n",
              "  </tbody>\n",
              "</table>\n",
              "</div>"
            ],
            "text/plain": [
              "        loss  accuracy\n",
              "0   0.563060   0.80294\n",
              "1   0.487606   0.82878\n",
              "2   0.412909   0.85430\n",
              "3   0.348644   0.87738\n",
              "4   0.296138   0.89564\n",
              "5   0.247198   0.91324\n",
              "6   0.209269   0.92694\n",
              "7   0.173775   0.93872\n",
              "8   0.161487   0.94374\n",
              "9   0.132660   0.95324\n",
              "10  0.129140   0.95442\n",
              "11  0.108996   0.96228\n",
              "12  0.107992   0.96260\n",
              "13  0.100814   0.96492\n",
              "14  0.094283   0.96728"
            ]
          },
          "metadata": {
            "tags": []
          },
          "execution_count": 17
        }
      ]
    },
    {
      "cell_type": "code",
      "metadata": {
        "colab": {
          "base_uri": "https://localhost:8080/",
          "height": 284
        },
        "id": "cavGoZ-1kSSl",
        "outputId": "90a38ae7-c14b-4dd4-8a3a-c2c06811c999"
      },
      "source": [
        "acc_loss.plot()"
      ],
      "execution_count": 18,
      "outputs": [
        {
          "output_type": "execute_result",
          "data": {
            "text/plain": [
              "<matplotlib.axes._subplots.AxesSubplot at 0x7f65622e0310>"
            ]
          },
          "metadata": {
            "tags": []
          },
          "execution_count": 18
        },
        {
          "output_type": "display_data",
          "data": {
            "image/png": "[encoded data removed]",
            "text/plain": [
              "<Figure size 432x288 with 1 Axes>"
            ]
          },
          "metadata": {
            "tags": [],
            "needs_background": "light"
          }
        }
      ]
    },
    {
      "cell_type": "markdown",
      "metadata": {
        "id": "4sif34dbkfo9"
      },
      "source": [
        "### Testing"
      ]
    },
    {
      "cell_type": "code",
      "metadata": {
        "colab": {
          "base_uri": "https://localhost:8080/",
          "height": 283
        },
        "id": "OrI98Q7WkaKF",
        "outputId": "f4990150-ccd9-4b74-9f69-0e067deff529"
      },
      "source": [
        "plt.imshow(x_test[16])"
      ],
      "execution_count": 19,
      "outputs": [
        {
          "output_type": "execute_result",
          "data": {
            "text/plain": [
              "<matplotlib.image.AxesImage at 0x7f654e369410>"
            ]
          },
          "metadata": {
            "tags": []
          },
          "execution_count": 19
        },
        {
          "output_type": "display_data",
          "data": {
            "image/png": "[encoded data removed]",
            "text/plain": [
              "<Figure size 432x288 with 1 Axes>"
            ]
          },
          "metadata": {
            "tags": [],
            "needs_background": "light"
          }
        }
      ]
    },
    {
      "cell_type": "code",
      "metadata": {
        "id": "o5rCVNXclPmk"
      },
      "source": [
        "pred=model.predict(x_test[16].reshape(1,32,32,3))"
      ],
      "execution_count": 21,
      "outputs": []
    },
    {
      "cell_type": "code",
      "metadata": {
        "colab": {
          "base_uri": "https://localhost:8080/"
        },
        "id": "jcQbiao-lhC5",
        "outputId": "ccc61874-5f9c-471c-baf0-677e448432f9"
      },
      "source": [
        "np.argmax(pred)"
      ],
      "execution_count": 22,
      "outputs": [
        {
          "output_type": "execute_result",
          "data": {
            "text/plain": [
              "5"
            ]
          },
          "metadata": {
            "tags": []
          },
          "execution_count": 22
        }
      ]
    },
    {
      "cell_type": "code",
      "metadata": {
        "colab": {
          "base_uri": "https://localhost:8080/"
        },
        "id": "PKBf3HZnl0YM",
        "outputId": "9aabc60a-1651-4d58-9e27-046eb10c5641"
      },
      "source": [
        "model.predict_classes(x_test[16].reshape(1,32,32,3))"
      ],
      "execution_count": 23,
      "outputs": [
        {
          "output_type": "stream",
          "text": [
            "/usr/local/lib/python3.7/dist-packages/tensorflow/python/keras/engine/sequential.py:455: UserWarning: `model.predict_classes()` is deprecated and will be removed after 2021-01-01. Please use instead:* `np.argmax(model.predict(x), axis=-1)`,   if your model does multi-class classification   (e.g. if it uses a `softmax` last-layer activation).* `(model.predict(x) > 0.5).astype(\"int32\")`,   if your model does binary classification   (e.g. if it uses a `sigmoid` last-layer activation).\n",
            "  warnings.warn('`model.predict_classes()` is deprecated and '\n"
          ],
          "name": "stderr"
        },
        {
          "output_type": "execute_result",
          "data": {
            "text/plain": [
              "array([5])"
            ]
          },
          "metadata": {
            "tags": []
          },
          "execution_count": 23
        }
      ]
    },
    {
      "cell_type": "code",
      "metadata": {
        "colab": {
          "base_uri": "https://localhost:8080/"
        },
        "id": "AUZhWHell29F",
        "outputId": "ba303612-5e2f-46db-eb35-be10ffb2829e"
      },
      "source": [
        "y_test[16]"
      ],
      "execution_count": 24,
      "outputs": [
        {
          "output_type": "execute_result",
          "data": {
            "text/plain": [
              "array([0., 0., 0., 0., 0., 1., 0., 0., 0., 0.], dtype=float32)"
            ]
          },
          "metadata": {
            "tags": []
          },
          "execution_count": 24
        }
      ]
    },
    {
      "cell_type": "markdown",
      "metadata": {
        "id": "tQr9WofDl8xV"
      },
      "source": [
        "### Saving and Plotting"
      ]
    },
    {
      "cell_type": "code",
      "metadata": {
        "id": "Vq1oAw1Vl55w"
      },
      "source": [
        "model.save('model.h5')"
      ],
      "execution_count": 25,
      "outputs": []
    },
    {
      "cell_type": "code",
      "metadata": {
        "colab": {
          "base_uri": "https://localhost:8080/"
        },
        "id": "z5UsllEJmRyS",
        "outputId": "319638a6-a7cb-45c8-e5ee-faa0e3831b34"
      },
      "source": [
        "model1 = keras.models.load_model('model.h5')\n",
        "model.predict_classes(x_test[16].reshape(1,32,32,3))"
      ],
      "execution_count": 26,
      "outputs": [
        {
          "output_type": "stream",
          "text": [
            "/usr/local/lib/python3.7/dist-packages/tensorflow/python/keras/engine/sequential.py:455: UserWarning: `model.predict_classes()` is deprecated and will be removed after 2021-01-01. Please use instead:* `np.argmax(model.predict(x), axis=-1)`,   if your model does multi-class classification   (e.g. if it uses a `softmax` last-layer activation).* `(model.predict(x) > 0.5).astype(\"int32\")`,   if your model does binary classification   (e.g. if it uses a `sigmoid` last-layer activation).\n",
            "  warnings.warn('`model.predict_classes()` is deprecated and '\n"
          ],
          "name": "stderr"
        },
        {
          "output_type": "execute_result",
          "data": {
            "text/plain": [
              "array([5])"
            ]
          },
          "metadata": {
            "tags": []
          },
          "execution_count": 26
        }
      ]
    },
    {
      "cell_type": "code",
      "metadata": {
        "colab": {
          "base_uri": "https://localhost:8080/",
          "height": 758
        },
        "id": "adMJu_9qmhVO",
        "outputId": "5203fc55-05ee-48e9-9d70-77aade11c8d3"
      },
      "source": [
        "keras.utils.plot_model(model,to_file='model.png')"
      ],
      "execution_count": 27,
      "outputs": [
        {
          "output_type": "execute_result",
          "data": {
            "image/png": "[encoded data removed]",
            "text/plain": [
              "<IPython.core.display.Image object>"
            ]
          },
          "metadata": {
            "tags": []
          },
          "execution_count": 27
        }
      ]
    },
    {
      "cell_type": "code",
      "metadata": {
        "id": "C3Vjkh1lmp7l"
      },
      "source": [
        ""
      ],
      "execution_count": null,
      "outputs": []
    }
  ]
}