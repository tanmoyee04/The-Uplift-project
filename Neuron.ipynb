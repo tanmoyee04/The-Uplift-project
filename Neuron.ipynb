{
  "nbformat": 4,
  "nbformat_minor": 0,
  "metadata": {
    "colab": {
      "name": "Neuron.ipynb",
      "provenance": [],
      "authorship_tag": "ABX9TyPDXxlQ1egbdyEltz3Zok7D",
      "include_colab_link": true
    },
    "kernelspec": {
      "name": "python3",
      "display_name": "Python 3"
    },
    "language_info": {
      "name": "python"
    }
  },
  "cells": [
    {
      "cell_type": "markdown",
      "metadata": {
        "id": "view-in-github",
        "colab_type": "text"
      },
      "source": [
        "<a href=\"https://colab.research.google.com/github/tanmoyee04/The-Uplift-project/blob/main/Neuron.ipynb\" target=\"_parent\"><img src=\"https://colab.research.google.com/assets/colab-badge.svg\" alt=\"Open In Colab\"/></a>"
      ]
    },
    {
      "cell_type": "code",
      "metadata": {
        "id": "KV8uzY5EZLCF"
      },
      "source": [
        "import numpy as np\n",
        "from tqdm import tqdm"
      ],
      "execution_count": 1,
      "outputs": []
    },
    {
      "cell_type": "code",
      "metadata": {
        "id": "yPV9NyFnZnyj"
      },
      "source": [
        "class Neuron():\n",
        "  def __init__(self):\n",
        "    np.random.seed(0)\n",
        "    self.weights = 2*np.random.random((3,1))-1\n",
        "\n",
        "  def sigmoide_derivative(self,x):\n",
        "    return x*(1+x)\n",
        "\n",
        "  def sigmoide(self,x): #activation function\n",
        "    return 1/(1+np.exp(-x))\n",
        "\n",
        "  def predict(self,x):\n",
        "    return self.sigmoide(np.dot(x,self.weights))#dot function multiplies two numpy arrays i.e dot product\n",
        "\n",
        "\n",
        "  def fit(self,x,y,epochs,lr=0.1):\n",
        "    self.error_report=[]\n",
        "    for i in range(1,11):\n",
        "      for _ in tqdm(range(epochs//10),ascii=True,desc='Epochs {}'.format(i*100)):\n",
        "        output = self.predict(x)\n",
        "        error = output-y\n",
        "        self.error_report.append(np.mean(error))\n",
        "        adjust = np.dot(x.T, error*self.sigmoide_derivative(output)) #backpropagation\n",
        "        self.weights -= lr*adjust\n",
        "      print('Loss at Epochs{}: '.format(i*100),self.error_report[-1])"
      ],
      "execution_count": 2,
      "outputs": []
    },
    {
      "cell_type": "code",
      "metadata": {
        "colab": {
          "base_uri": "https://localhost:8080/"
        },
        "id": "sFrdYPWubM9_",
        "outputId": "e804f2d0-10d6-48a2-de86-053d710b43d6"
      },
      "source": [
        "neuron = Neuron()\n",
        "print(\"Weights: \",neuron.weights)\n",
        "training_data=np.array([[0,0,1],[1,1,1],[1,0,1],[0,1,1]])\n",
        "training_lable = np.array([[0,1,1,0]]).T # T is for transpose\n",
        "neuron.fit(training_data,training_lable,1000)\n",
        "print(\"After training weights: \",neuron.weights)"
      ],
      "execution_count": 3,
      "outputs": [
        {
          "output_type": "stream",
          "text": [
            "Epochs 100: 100%|##########| 100/100 [00:00<00:00, 25719.30it/s]\n",
            "Epochs 200: 100%|##########| 100/100 [00:00<00:00, 15686.09it/s]\n",
            "Epochs 300: 100%|##########| 100/100 [00:00<00:00, 15772.80it/s]\n",
            "Epochs 400: 100%|##########| 100/100 [00:00<00:00, 19194.14it/s]\n",
            "Epochs 500: 100%|##########| 100/100 [00:00<00:00, 13292.04it/s]\n",
            "Epochs 600: 100%|##########| 100/100 [00:00<00:00, 21026.19it/s]\n",
            "Epochs 700: 100%|##########| 100/100 [00:00<00:00, 11417.11it/s]\n",
            "Epochs 800: 100%|##########| 100/100 [00:00<00:00, 23387.44it/s]\n",
            "Epochs 900: 100%|##########| 100/100 [00:00<00:00, 14887.14it/s]\n",
            "Epochs 1000: 100%|##########| 100/100 [00:00<00:00, 11925.12it/s]"
          ],
          "name": "stderr"
        },
        {
          "output_type": "stream",
          "text": [
            "Weights:  [[0.09762701]\n",
            " [0.43037873]\n",
            " [0.20552675]]\n",
            "Loss at Epochs100:  0.12476951569769444\n",
            "Loss at Epochs200:  0.09692547606954877\n",
            "Loss at Epochs300:  0.08174084699154309\n",
            "Loss at Epochs400:  0.07200051986113677\n",
            "Loss at Epochs500:  0.06509288121421056\n",
            "Loss at Epochs600:  0.05986962293535748\n",
            "Loss at Epochs700:  0.05574174306551723\n",
            "Loss at Epochs800:  0.052372896803442814\n",
            "Loss at Epochs900:  0.04955545646513441\n",
            "Loss at Epochs1000:  0.04715347170675303\n",
            "After training weights:  [[ 7.74334915]\n",
            " [-0.20157052]\n",
            " [-2.11997876]]\n"
          ],
          "name": "stdout"
        },
        {
          "output_type": "stream",
          "text": [
            "\n"
          ],
          "name": "stderr"
        }
      ]
    },
    {
      "cell_type": "code",
      "metadata": {
        "colab": {
          "base_uri": "https://localhost:8080/",
          "height": 265
        },
        "id": "WCny_Lq4hOpH",
        "outputId": "8c1b5b0b-2f0a-4ddc-93d6-d22d8f79c576"
      },
      "source": [
        "import matplotlib.pyplot as plt\n",
        "\n",
        "epochs=range(1000)\n",
        "plt.figure()\n",
        "plt.scatter(epochs,neuron.error_report)\n",
        "plt.show()"
      ],
      "execution_count": 4,
      "outputs": [
        {
          "output_type": "display_data",
          "data": {
            "image/png": "[encoded data removed]",
            "text/plain": [
              "<Figure size 432x288 with 1 Axes>"
            ]
          },
          "metadata": {
            "tags": [],
            "needs_background": "light"
          }
        }
      ]
    },
    {
      "cell_type": "code",
      "metadata": {
        "colab": {
          "base_uri": "https://localhost:8080/"
        },
        "id": "CM6vxuZ8bBS5",
        "outputId": "83dc20eb-a6e8-4744-a74a-9581926a451b"
      },
      "source": [
        "weights = 2*np.random.random((3,1))-1\n",
        "weights"
      ],
      "execution_count": 13,
      "outputs": [
        {
          "output_type": "execute_result",
          "data": {
            "text/plain": [
              "array([[ 0.08976637],\n",
              "       [-0.1526904 ],\n",
              "       [ 0.29178823]])"
            ]
          },
          "metadata": {
            "tags": []
          },
          "execution_count": 13
        }
      ]
    },
    {
      "cell_type": "code",
      "metadata": {
        "colab": {
          "base_uri": "https://localhost:8080/"
        },
        "id": "zQ0VMFQ1bEpf",
        "outputId": "910301e5-29a0-4324-a841-ed90a4467690"
      },
      "source": [
        "training_data"
      ],
      "execution_count": 14,
      "outputs": [
        {
          "output_type": "execute_result",
          "data": {
            "text/plain": [
              "array([[0, 0, 1],\n",
              "       [1, 1, 1],\n",
              "       [1, 0, 1],\n",
              "       [0, 1, 1]])"
            ]
          },
          "metadata": {
            "tags": []
          },
          "execution_count": 14
        }
      ]
    },
    {
      "cell_type": "code",
      "metadata": {
        "colab": {
          "base_uri": "https://localhost:8080/"
        },
        "id": "o3keFLyPcREV",
        "outputId": "88920ed5-545d-41ee-f78f-d5fb49faf290"
      },
      "source": [
        "training_lable"
      ],
      "execution_count": 15,
      "outputs": [
        {
          "output_type": "execute_result",
          "data": {
            "text/plain": [
              "array([[0],\n",
              "       [1],\n",
              "       [1],\n",
              "       [0]])"
            ]
          },
          "metadata": {
            "tags": []
          },
          "execution_count": 15
        }
      ]
    },
    {
      "cell_type": "code",
      "metadata": {
        "id": "AOGJpvDSca_n"
      },
      "source": [
        ""
      ],
      "execution_count": null,
      "outputs": []
    }
  ]
}